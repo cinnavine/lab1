{
 "cells": [
  {
   "cell_type": "markdown",
   "metadata": {
    "id": "M-DGa20PaHnu"
   },
   "source": [
    "# Задача 1\n",
    "Написать функцию на вход которой подается строка, состоящая из латинских букв. Функция должна вернуть количество гласных букв (a, e, i, o, u) в этой строке. Написать тесты для кода"
   ]
  },
  {
   "cell_type": "code",
   "execution_count": 20,
   "metadata": {
    "id": "XvX8X_JJ6PCb"
   },
   "outputs": [
    {
     "name": "stdout",
     "output_type": "stream",
     "text": [
      "All tests past\n"
     ]
    }
   ],
   "source": [
    "def count_vowels(string):\n",
    "    vowels = \"aeiou\"\n",
    "    count = 0\n",
    "    for char in string.lower():\n",
    "        if char in vowels:\n",
    "            count += 1\n",
    "    return count\n",
    "\n",
    "def tests():\n",
    "    assert count_vowels(\"HELLO WORLD\") == 3\n",
    "    assert count_vowels(\"Malenia, Blade of Miquella\") == 11\n",
    "    assert count_vowels(\"\") == 0\n",
    "    print(\"All tests past\")\n",
    "\n",
    "tests()"
   ]
  },
  {
   "cell_type": "markdown",
   "metadata": {
    "id": "t2ClV_Y0bbr6"
   },
   "source": [
    "# Задача 2\n",
    "Написать функцию на вход, которой подается строка. Функция должна вернуть true, если\n",
    "каждый символ в строке встречается только 1 раз, иначе должна вернуть false. Написать тесты для кода"
   ]
  },
  {
   "cell_type": "code",
   "execution_count": 25,
   "metadata": {
    "id": "FppbECao6VIz"
   },
   "outputs": [
    {
     "name": "stdout",
     "output_type": "stream",
     "text": [
      "All tests past\n"
     ]
    }
   ],
   "source": [
    "def check_unique(string):\n",
    "    char_list = []\n",
    "    for char in string:\n",
    "        if char.lower() in char_list: return False \n",
    "        else: char_list.append(char)\n",
    "    return True\n",
    "\n",
    "def tests():\n",
    "    assert check_unique(\"abc123\") == True\n",
    "    assert check_unique(\"abcda\") == False\n",
    "    assert check_unique(\"\") == True\n",
    "    print(\"All tests past\")\n",
    "\n",
    "tests()"
   ]
  },
  {
   "cell_type": "markdown",
   "metadata": {
    "id": "udRiIK1cdt6E"
   },
   "source": [
    "# Задача 3\n",
    "Написать функцию, которая принимает положительное число и возвращает количество\n",
    "бит равных 1 в этом числе. Написать тесты для кода"
   ]
  },
  {
   "cell_type": "code",
   "execution_count": 28,
   "metadata": {
    "id": "6tkfDJRz6dp_"
   },
   "outputs": [
    {
     "name": "stdout",
     "output_type": "stream",
     "text": [
      "All tests past\n"
     ]
    }
   ],
   "source": [
    "def count_bit(n):\n",
    "    count = 0\n",
    "    for b in bin(n):\n",
    "        if b == '1': count += 1\n",
    "    return count\n",
    "\n",
    "def tests():\n",
    "    assert count_bit(1) == 1\n",
    "    assert count_bit(7) == 3\n",
    "    print(\"All tests past\")\n",
    "\n",
    "tests()"
   ]
  },
  {
   "cell_type": "markdown",
   "metadata": {
    "id": "26dDUz-Ae17N"
   },
   "source": [
    "# Задача 4\n",
    "Написать функцию, которая принимает положительное число. Функция должна вернуть то,\n",
    "сколько раз необходимо перемножать цифры числа или результат перемножения, чтобы\n",
    "получилось число состоящее из одной цифры.\n",
    "Например, для входного числа:\n",
    "· 39 функция должна вернуть 3, так как 3*9=27 => 2*7=14 => 1*4=4\n",
    "· 4 функция должна вернуть 0, так как число уже состоит из одной цифры\n",
    "· 999 функция должна вернуть 4, так как 9*9*9=729 => 7*2*9=126 => 1*2*6=12 =>\n",
    "1*2=2. Написать тесты для кода"
   ]
  },
  {
   "cell_type": "code",
   "execution_count": 60,
   "metadata": {
    "id": "BH1A_Mgi6i4G"
   },
   "outputs": [
    {
     "name": "stdout",
     "output_type": "stream",
     "text": [
      "All tests past\n"
     ]
    }
   ],
   "source": [
    "def magic(n):\n",
    "    count = 0\n",
    "    n_str = str(n)\n",
    "    while len(n_str) > 1:\n",
    "        res = 1\n",
    "        for i in n_str: res *= int(i)\n",
    "        n_str = str(res)\n",
    "        count += 1\n",
    "    return count\n",
    "\n",
    "def tests():\n",
    "    assert magic(39) == 3\n",
    "    assert magic(999) == 4\n",
    "    print(\"All tests past\")\n",
    "\n",
    "tests()"
   ]
  },
  {
   "cell_type": "markdown",
   "metadata": {
    "id": "0nS-kIa8g8vd"
   },
   "source": [
    "# Задача 5\n",
    "Написать функцию, которая принимает два целочисленных вектора одинаковой длины и\n",
    "возвращает среднеквадратическое отклонение двух векторов. Написать тесты для кода"
   ]
  },
  {
   "cell_type": "code",
   "execution_count": 38,
   "metadata": {
    "id": "8iphx4LM6xbx"
   },
   "outputs": [
    {
     "name": "stdout",
     "output_type": "stream",
     "text": [
      "All tests past\n"
     ]
    }
   ],
   "source": [
    "def mse(pred, true):\n",
    "    if len(pred)!=len(true):\n",
    "        return \"Векторы должны быть одинаковой длины\"\n",
    "        \n",
    "    res = 0\n",
    "    length = len(pred)\n",
    "    for i in range(length):\n",
    "        res += (true[i]-pred[i])**2\n",
    "    return res/length\n",
    "\n",
    "def tests():\n",
    "    assert mse([0,0,0,0,0],[1,1,1,1])==\"Векторы должны быть одинаковой длины\"\n",
    "    assert mse([1,1,1,1,1],[2,2,2,2,2])==1\n",
    "    assert mse([1,1,1],[1,1,1])==0\n",
    "    print(\"All tests past\")\n",
    "\n",
    "tests()"
   ]
  },
  {
   "cell_type": "markdown",
   "metadata": {
    "id": "vpIPKL439zkw"
   },
   "source": [
    "# Задача 6\n",
    "Написать функцию, принимающая целое положительное число. Функция должна вернуть\n",
    "строку вида “(n1**p1)(n2**p2)…(nk**pk)” представляющая разложение числа на простые\n",
    "множители (если pi == 1, то выводить только ni).\n",
    "Например, для числа 86240 функция должна вернуть “(2**5)(5)(7**2)(11)”. Написать тесты для кода"
   ]
  },
  {
   "cell_type": "code",
   "execution_count": 40,
   "metadata": {
    "id": "pFebmcZk94Jw"
   },
   "outputs": [
    {
     "name": "stdout",
     "output_type": "stream",
     "text": [
      "All tests past\n"
     ]
    }
   ],
   "source": [
    "def factorization(n):\n",
    "    res = \"\"\n",
    "    for i in range(2, n // 2 + 1):\n",
    "        if n % i == 0:\n",
    "            d = 0\n",
    "            while n % i == 0:\n",
    "                n /= i\n",
    "                d += 1\n",
    "            if d == 1: res += f\"({i})\"\n",
    "            else: res += f\"({i}**{d})\"\n",
    "    if res == \"\": res += str(n)\n",
    "    return res\n",
    "\n",
    "def tests():\n",
    "    assert factorization(86240)==\"(2**5)(5)(7**2)(11)\"\n",
    "    assert factorization(1)==\"1\"\n",
    "    assert factorization(0)==\"0\"\n",
    "    print(\"All tests past\")\n",
    "\n",
    "tests()"
   ]
  },
  {
   "cell_type": "markdown",
   "metadata": {
    "id": "ps2s0BudX7A2"
   },
   "source": [
    "# Задача 7\n",
    "Написать функцию, принимающая целое число n, задающее количество кубиков. Функция\n",
    "должна определить, можно ли из данного кол-ва кубиков построить пирамиду, то есть\n",
    "можно ли представить число n как 1^2+2^2+3^2+…+k^2. Если можно, то функция должна\n",
    "вернуть k, иначе строку “It is impossible”. Написать тесты для кода"
   ]
  },
  {
   "cell_type": "code",
   "execution_count": 46,
   "metadata": {
    "id": "3YPjEXxhX_YT"
   },
   "outputs": [
    {
     "name": "stdout",
     "output_type": "stream",
     "text": [
      "All tests past\n"
     ]
    }
   ],
   "source": [
    "def pyramid(n):\n",
    "    if n < 1: return \"It is impossible\"\n",
    "    k = 0\n",
    "    while n > 0:\n",
    "        k += 1\n",
    "        n -= k*k\n",
    "    if n < 0: return \"It is impossible\"\n",
    "    return k\n",
    "\n",
    "def tests():\n",
    "    assert pyramid(5)==2\n",
    "    assert pyramid(1)==1\n",
    "    assert pyramid(14)==3\n",
    "    assert pyramid(0)==\"It is impossible\"\n",
    "    assert pyramid(7)==\"It is impossible\"\n",
    "    print(\"All tests past\")\n",
    "\n",
    "tests()"
   ]
  },
  {
   "cell_type": "markdown",
   "metadata": {
    "id": "KeKgmIdAQMEJ"
   },
   "source": [
    "# Задача 8\n",
    "Функция принимает на вход положительное число и определяет является ли оно сбалансированным, т.е. сумма цифр до средних равна сумме цифр после. Средними в случае нечетного числа цифр считать одну цифру, в случае четного - две средних. Написать тесты для кода"
   ]
  },
  {
   "cell_type": "code",
   "execution_count": 61,
   "metadata": {
    "id": "gMAAqtqlQrZt"
   },
   "outputs": [
    {
     "name": "stdout",
     "output_type": "stream",
     "text": [
      "All tests past\n"
     ]
    }
   ],
   "source": [
    "def balance(n):\n",
    "    n_str = str(n)\n",
    "    length = len(n_str)\n",
    "    if length % 2 == 0:\n",
    "        f_h = sum(map(int, n_str[:length//2 - 1]))\n",
    "        l_h = sum(map(int, n_str[length//2 + 1:]))\n",
    "    else:\n",
    "        f_h = sum(map(int, n_str[:length//2]))\n",
    "        l_h = sum(map(int, n_str[length//2 + 1:]))\n",
    "    return f_h == l_h\n",
    "\n",
    "\n",
    "def tests():\n",
    "    assert balance(12321)==True\n",
    "    assert balance(123421)==True\n",
    "    assert balance(123456)==False\n",
    "    print(\"All tests past\")\n",
    "\n",
    "tests()"
   ]
  }
 ],
 "metadata": {
  "colab": {
   "provenance": []
  },
  "kernelspec": {
   "display_name": "Python 3 (ipykernel)",
   "language": "python",
   "name": "python3"
  },
  "language_info": {
   "codemirror_mode": {
    "name": "ipython",
    "version": 3
   },
   "file_extension": ".py",
   "mimetype": "text/x-python",
   "name": "python",
   "nbconvert_exporter": "python",
   "pygments_lexer": "ipython3",
   "version": "3.10.3"
  }
 },
 "nbformat": 4,
 "nbformat_minor": 4
}
