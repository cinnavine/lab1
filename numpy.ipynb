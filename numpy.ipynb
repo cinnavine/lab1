{
 "cells": [
  {
   "cell_type": "markdown",
   "metadata": {
    "id": "vC84e9kzyxPy"
   },
   "source": [
    "<h1>Импорт библиотек"
   ]
  },
  {
   "cell_type": "code",
   "execution_count": 1,
   "metadata": {
    "id": "cgKeNegmQG5S"
   },
   "outputs": [],
   "source": [
    "import numpy as np\n",
    "import matplotlib.pyplot as plt"
   ]
  },
  {
   "cell_type": "markdown",
   "metadata": {
    "id": "qFM9uVU2x4Ls"
   },
   "source": [
    "<h1>Задача 1. Дан набор из $p$ матриц размерностью $(n, n)$ и $p$ векторов размерностью $(n, 1)$, найти сумму произведений матриц на векторы. Написать тесты для кода"
   ]
  },
  {
   "cell_type": "code",
   "execution_count": 5,
   "metadata": {
    "id": "IAbUvEiYyWFF"
   },
   "outputs": [
    {
     "name": "stdout",
     "output_type": "stream",
     "text": [
      "All tests past\n"
     ]
    }
   ],
   "source": [
    "def sum_prod(X, V):\n",
    "    res = np.zeros_like(V[0])\n",
    "    for matrix, vector in zip(X, V):\n",
    "        res += np.dot(matrix, vector)\n",
    "    return res\n",
    "\n",
    "\n",
    "def tests():\n",
    "    res1 = sum_prod([np.array([[1, 2], [3, 4]])], [np.array([[5], [6]])])\n",
    "    exp1 = np.array([[17], [39]])\n",
    "    assert np.testing.assert_array_equal(res1, exp1) == None\n",
    "    res2 = sum_prod([np.zeros((2, 2)), np.zeros((2, 2))], [np.zeros((2, 1)), np.zeros((2, 1))])\n",
    "    exp2 = np.zeros((2, 1))\n",
    "    assert np.testing.assert_array_equal(res2, exp2) == None\n",
    "    print(\"All tests past\")\n",
    "\n",
    "tests()"
   ]
  },
  {
   "cell_type": "markdown",
   "metadata": {
    "id": "TKwPG4fIy2w4"
   },
   "source": [
    "<h1>Задача 2. Дана матрица M, напишите функцию, которая бинаризует матрицу по некоторому threshold (то есть, все значения большие threshold становятся равными 1, иначе 0). Напишите тесты для кода"
   ]
  },
  {
   "cell_type": "code",
   "execution_count": 8,
   "metadata": {
    "id": "KQDNMgsjRNH7"
   },
   "outputs": [
    {
     "name": "stdout",
     "output_type": "stream",
     "text": [
      "All tests past\n"
     ]
    }
   ],
   "source": [
    "def binarize(M, threshold=0.5):\n",
    "    return (M > threshold).astype(int)\n",
    "\n",
    "def tests():\n",
    "    res1 = binarize(np.array([[0.1, 0.6], [0.4, 0.8]]))\n",
    "    exp1 = np.array([[0, 1], [0, 1]])\n",
    "    assert np.testing.assert_array_equal(res1, exp1) == None\n",
    "    \n",
    "    res2 = binarize(np.array([[0.1, 0.6], [0.4, 0.8]]), 0.4)\n",
    "    exp2 = np.array([[0, 1], [0, 1]])\n",
    "    assert np.testing.assert_array_equal(res2, exp2) == None\n",
    "    print(\"All tests past\")\n",
    "\n",
    "tests()"
   ]
  },
  {
   "cell_type": "markdown",
   "metadata": {
    "id": "IY5L-h-7zWhN"
   },
   "source": [
    "<h1>Задача 3. Напишите функцию, которая возвращает уникальные элементы из каждой строки матрицы. Напишите такую же функцию, но для столбцов. Напишите тесты для кода"
   ]
  },
  {
   "cell_type": "code",
   "execution_count": 16,
   "metadata": {
    "id": "-8dEZhR0SBC-"
   },
   "outputs": [
    {
     "name": "stdout",
     "output_type": "stream",
     "text": [
      "All tests past\n"
     ]
    }
   ],
   "source": [
    "def unique_rows(mat):\n",
    "    return [np.unique(row) for row in mat]\n",
    "\n",
    "def unique_columns(mat):\n",
    "    return [np.unique(col) for col in mat.T]\n",
    "\n",
    "\n",
    "def is_equal(result, expected):\n",
    "    r = True\n",
    "    for res, exp in zip(result, expected):\n",
    "        if np.testing.assert_array_equal(res, exp) != None : return False\n",
    "    return r\n",
    "\n",
    "def tests():\n",
    "    res1 = unique_rows(np.array([[1, 2, 2], [3, 3, 3], [4, 5, 4]]))\n",
    "    exp1 = [np.array([1, 2]), np.array([3]), np.array([4, 5])]\n",
    "    assert is_equal(res1, exp1) == True\n",
    "    \n",
    "    res2 = unique_columns(np.array([[1, 2, 3], [4, 5, 6], [7, 8, 9]]))\n",
    "    exp2 = [np.array([1, 4, 7]), np.array([2, 5, 8]), np.array([3, 6, 9])]\n",
    "    assert is_equal(res2, exp2) == True\n",
    "    print(\"All tests past\")\n",
    "\n",
    "tests()"
   ]
  },
  {
   "cell_type": "markdown",
   "metadata": {
    "id": "roYAlo4Jz-lH"
   },
   "source": [
    "<h1>Задача 4. Напишите функцию, которая заполняет матрицу с размерами $(m, n)$ случайными числами, распределенными по нормальному закону. Затем считает мат. ожидание и дисперсию для каждого из столбцов и строк, а также строит для каждой строки и столбца гистограмму значений (использовать функцию hist из модуля matplotlib.plot)"
   ]
  },
  {
   "cell_type": "code",
   "execution_count": null,
   "metadata": {
    "id": "nZK_71hMSQzv"
   },
   "outputs": [],
   "source": [
    "# Your code goes here"
   ]
  },
  {
   "cell_type": "markdown",
   "metadata": {
    "id": "BDyATNdM0dJ2"
   },
   "source": [
    "<h1>Задача 5. Напишите функцию, которая заполняет матрицу $(m, n)$ в шахматном порядке заданными числами $a$ и $b$. Напишите тесты для кода"
   ]
  },
  {
   "cell_type": "code",
   "execution_count": 30,
   "metadata": {
    "id": "RWNJYWQGecS6"
   },
   "outputs": [
    {
     "name": "stdout",
     "output_type": "stream",
     "text": [
      "All tests past\n"
     ]
    }
   ],
   "source": [
    "def chess(m, n, a, b):\n",
    "    matrix = np.zeros((m, n))\n",
    "    for i in range(m):\n",
    "        for j in range(n):\n",
    "            if (i + j) % 2 == 0:\n",
    "                matrix[i, j] = a\n",
    "            else:\n",
    "                matrix[i, j] = b\n",
    "    return matrix\n",
    "\n",
    "\n",
    "def tests():\n",
    "    res1 = chess(3, 3, 1, 2)\n",
    "    exp1 = np.array([[1, 2, 1],\n",
    "                     [2, 1, 2],\n",
    "                     [1, 2, 1]])\n",
    "    assert np.testing.assert_array_equal(res1, exp1) == None\n",
    "    \n",
    "    res2 = chess(2, 5, 7, 8)\n",
    "    exp2 = np.array([[7, 8, 7, 8, 7],\n",
    "                     [8, 7, 8, 7, 8]])\n",
    "    assert np.testing.assert_array_equal(res2, exp2) == None\n",
    "    print(\"All tests past\")\n",
    "\n",
    "tests()"
   ]
  },
  {
   "cell_type": "markdown",
   "metadata": {
    "id": "-ymXLtTN0vB6"
   },
   "source": [
    "<h1>Задача 6. Напишите функцию, которая отрисовывает прямоугольник с заданными размерами (a, b) на изображении размера (m, n), цвет фона задайте в схеме RGB, как и цвет прямоугольника. Цвета также должны быть параметрами функции. Напишите аналогичную функцию но для овала с полуосями a и b. Напишите тесты для кода.\n",
    "Примечание: уравнение эллипса (границы овала) можно записать как:\n",
    "<h1>$\\frac{(x-x_0)^2}{a^2}+\\frac{(y-y_0)^2}{b^2}=1$"
   ]
  },
  {
   "cell_type": "code",
   "execution_count": 26,
   "metadata": {
    "id": "sNfl1t_kfOF4"
   },
   "outputs": [
    {
     "data": {
      "image/png": "[encoded data removed]",
      "text/plain": [
       "<Figure size 640x480 with 1 Axes>"
      ]
     },
     "metadata": {},
     "output_type": "display_data"
    },
    {
     "data": {
      "image/png": "[encoded data removed]",
      "text/plain": [
       "<Figure size 640x480 with 1 Axes>"
      ]
     },
     "metadata": {},
     "output_type": "display_data"
    }
   ],
   "source": [
    "def draw_rectangle(a, b, m, n, rectangle_color, background_color):\n",
    "    img = np.zeros((n, m, 3), dtype=np.uint8)\n",
    "    img[:, :] = background_color\n",
    "    \n",
    "    #кординаты\n",
    "    top_left_x = (m - a) // 2\n",
    "    top_left_y = (n - b) // 2\n",
    "    bottom_right_x = top_left_x + a\n",
    "    bottom_right_y = top_left_y + b\n",
    "    \n",
    "    #прямоугольник\n",
    "    img[top_left_y:bottom_right_y, top_left_x:bottom_right_x] = rectangle_color\n",
    "    plt.imshow(img)\n",
    "    plt.axis('off')\n",
    "    plt.show()\n",
    "    \n",
    "\n",
    "def draw_ellipse(a, b, m, n, ellipse_color, background_color):\n",
    "    img = np.zeros((n, m, 3), dtype=np.uint8)\n",
    "    img[:, :] = background_color\n",
    "    \n",
    "    #кординаты\n",
    "    x0 = m // 2\n",
    "    y0 = n // 2\n",
    "    \n",
    "    for x in range(m):\n",
    "        for y in range(n):\n",
    "            if ((x - x0) ** 2) / (a ** 2) + ((y - y0) ** 2) / (b ** 2) <= 1:\n",
    "                img[y, x] = ellipse_color\n",
    "    \n",
    "    plt.imshow(img)\n",
    "    plt.axis('off')\n",
    "    plt.show()\n",
    "\n",
    "def tests():\n",
    "    draw_rectangle(100, 50, 175, 125, rectangle_color=(132, 88, 190), background_color=(160, 210, 239))\n",
    "    draw_ellipse(80, 40, 175, 125, ellipse_color=(253, 221, 230), background_color=(235, 246, 245))\n",
    "\n",
    "tests()"
   ]
  },
  {
   "cell_type": "markdown",
   "metadata": {
    "id": "S82c38oz244H"
   },
   "source": [
    "<h1>Задача 7. Дан некий временной ряд. Для данного ряда нужно найти его: математическое ожидание, дисперсию, СКО, найти все локальные максимумы и минимумы (локальный максимум - это точка, которая больше своих соседних точек, а локальный минимум - это точка, которая меньше своих соседей), а также вычислить для данного ряда другой ряд, получаемый методом скользящего среднего с размером окна $p$.\n",
    "<h1>Примечание: метод скользящего среднего подразумевает нахождение среднего из подмножетсва ряда размером $p$"
   ]
  },
  {
   "cell_type": "code",
   "execution_count": null,
   "metadata": {
    "id": "Zb9mIVge5MMt"
   },
   "outputs": [],
   "source": [
    "# Your code goes here"
   ]
  },
  {
   "cell_type": "markdown",
   "metadata": {
    "id": "jPkylmOX5O9n"
   },
   "source": [
    "<h1> Задача 8. Дан некоторый вектор с целочисленными метками классов, напишите функцию, которая выполняет one-hot-encoding для данного вектора\n",
    "<h1> One-hot-encoding - представление, в котором на месте метки некоторого класса стоит 1, в остальных позициях стоит 0. Например для вектора [0, 2, 3, 0] one-hot-encoding выглядит как: [[1, 0, 0, 0], [0, 0, 1, 0], [0, 0, 0, 1], [1, 0, 0, 0]]"
   ]
  },
  {
   "cell_type": "code",
   "execution_count": null,
   "metadata": {
    "id": "Y-jlnZvw56lD"
   },
   "outputs": [],
   "source": [
    "# Your code goes here"
   ]
  }
 ],
 "metadata": {
  "colab": {
   "provenance": []
  },
  "kernelspec": {
   "display_name": "Python 3 (ipykernel)",
   "language": "python",
   "name": "python3"
  },
  "language_info": {
   "codemirror_mode": {
    "name": "ipython",
    "version": 3
   },
   "file_extension": ".py",
   "mimetype": "text/x-python",
   "name": "python",
   "nbconvert_exporter": "python",
   "pygments_lexer": "ipython3",
   "version": "3.10.3"
  }
 },
 "nbformat": 4,
 "nbformat_minor": 4
}
